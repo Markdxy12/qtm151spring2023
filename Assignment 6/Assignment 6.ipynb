{
 "cells": [
  {
   "attachments": {},
   "cell_type": "markdown",
   "metadata": {},
   "source": [
    "# Assignment 6"
   ]
  },
  {
   "attachments": {},
   "cell_type": "markdown",
   "metadata": {},
   "source": [
    "## Try to submit as an HTML file"
   ]
  },
  {
   "attachments": {},
   "cell_type": "markdown",
   "metadata": {},
   "source": [
    "<font size = \"5\">\n",
    "Print your name below"
   ]
  },
  {
   "cell_type": "code",
   "execution_count": 1,
   "metadata": {},
   "outputs": [
    {
     "name": "stdout",
     "output_type": "stream",
     "text": [
      "Mark Du\n"
     ]
    }
   ],
   "source": [
    "print(\"Mark Du\")"
   ]
  },
  {
   "attachments": {},
   "cell_type": "markdown",
   "metadata": {},
   "source": [
    "<font size = \"5\">\n",
    "\n",
    "Import the \"pandas\" and \"matplotlib.pyplot\" library"
   ]
  },
  {
   "cell_type": "code",
   "execution_count": 2,
   "metadata": {},
   "outputs": [],
   "source": [
    "# Write your answer here:\n",
    "import pandas as pd \n",
    "import matplotlib.pyplot as plt\n",
    "\n"
   ]
  },
  {
   "attachments": {},
   "cell_type": "markdown",
   "metadata": {},
   "source": [
    "<font size = \"5\">\n",
    "\n",
    "(a) Compute function for each individual (map)\n",
    "\n",
    "<font size = \"3\">\n",
    "\n",
    "- Import the datset \"data/investment.csv\"\n",
    "- Write a lambda function for $V = P/(1+r)$.\n",
    "- Use ```list(map(...))``` to calculate $V$ for each row of the dataset\n"
   ]
  },
  {
   "cell_type": "code",
   "execution_count": 72,
   "metadata": {},
   "outputs": [
    {
     "data": {
      "text/plain": [
       "[990.09900990099,\n",
       " 1960.7843137254902,\n",
       " 485.43689320388347,\n",
       " 769.2307692307692,\n",
       " 370.3703703703703]"
      ]
     },
     "execution_count": 72,
     "metadata": {},
     "output_type": "execute_result"
    }
   ],
   "source": [
    "# Write your own code here\n",
    "dataset = pd.read_csv(\"data/investment.csv\")\n",
    "fn_compute_value =  lambda P,r: P/(1 + r)\n",
    "list(map(fn_compute_value, dataset[\"P\"], dataset[\"r\"]))\n",
    "\n",
    "\n",
    " #Question: Why can't I just simply use \n",
    " # list(map(  fn_compute_value  , dataset))? \n",
    " # It showed the error that it missing the value of r, \n",
    " # but why list(map()) can only detect the P and r values separately \n",
    " # instead of at the same time?\n"
   ]
  },
  {
   "attachments": {},
   "cell_type": "markdown",
   "metadata": {},
   "source": [
    "<font size = \"5\">\n",
    "\n",
    "(b) Convert to upper case\n",
    "\n",
    "<font size = \"3\">\n",
    "\n",
    "- Create the following function to convert a string to upper case\n",
    "\n",
    "$\\quad$ ``` fn_upper = lambda x: x.upper() ```\n",
    "\n",
    "- Create a new column, \"countryname_upper\"  <br>\n",
    "that converts \"countryname\" to upper case."
   ]
  },
  {
   "cell_type": "code",
   "execution_count": 76,
   "metadata": {},
   "outputs": [
    {
     "name": "stdout",
     "output_type": "stream",
     "text": [
      "     year yearcode                  countryname countrycode  \\\n",
      "0    2020   YR2020                  Afghanistan         AFG   \n",
      "1    2020   YR2020  Africa Eastern and Southern         AFE   \n",
      "2    2020   YR2020   Africa Western and Central         AFW   \n",
      "3    2020   YR2020                      Albania         ALB   \n",
      "4    2020   YR2020                      Algeria         DZA   \n",
      "..    ...      ...                          ...         ...   \n",
      "261  2020   YR2020           West Bank and Gaza         PSE   \n",
      "262  2020   YR2020                        World         WLD   \n",
      "263  2020   YR2020                  Yemen, Rep.         YEM   \n",
      "264  2020   YR2020                       Zambia         ZMB   \n",
      "265  2020   YR2020                     Zimbabwe         ZWE   \n",
      "\n",
      "     prop_urbanpopulation            countryname_upper  \n",
      "0               26.026000                  AFGHANISTAN  \n",
      "1               36.828301  AFRICA EASTERN AND SOUTHERN  \n",
      "2               47.857831   AFRICA WESTERN AND CENTRAL  \n",
      "3               62.112000                      ALBANIA  \n",
      "4               73.733000                      ALGERIA  \n",
      "..                    ...                          ...  \n",
      "261             76.719000           WEST BANK AND GAZA  \n",
      "262             56.063764                        WORLD  \n",
      "263             37.908000                  YEMEN, REP.  \n",
      "264             44.629000                       ZAMBIA  \n",
      "265             32.242000                     ZIMBABWE  \n",
      "\n",
      "[266 rows x 6 columns]\n"
     ]
    }
   ],
   "source": [
    "# Write your own code here\n",
    "wdi=pd.read_csv(\"data/wdi_2020.csv\")\n",
    "fn_upper = lambda x: x.upper()\n",
    "wdi[\"countryname_upper\"] = list(map(fn_upper, wdi[\"countryname\"]))\n",
    "\n",
    "print(wdi)"
   ]
  },
  {
   "attachments": {},
   "cell_type": "markdown",
   "metadata": {},
   "source": [
    "<font size = \"5\">\n",
    "For questions (b)-(d), read \"data/wdi_2020.csv\" "
   ]
  },
  {
   "attachments": {},
   "cell_type": "markdown",
   "metadata": {},
   "source": [
    "<font size = \"5\">\n",
    "\n",
    "(c) Extract sorted elements from a dataset\n",
    "\n",
    "<font size = \"3\">\n",
    "\n",
    "- Sort by \"prop_urbanpopulation\" in descending order\n",
    "- Subset the 5 countries with the highest urban population"
   ]
  },
  {
   "cell_type": "code",
   "execution_count": 77,
   "metadata": {},
   "outputs": [
    {
     "data": {
      "text/html": [
       "<div>\n",
       "<style scoped>\n",
       "    .dataframe tbody tr th:only-of-type {\n",
       "        vertical-align: middle;\n",
       "    }\n",
       "\n",
       "    .dataframe tbody tr th {\n",
       "        vertical-align: top;\n",
       "    }\n",
       "\n",
       "    .dataframe thead th {\n",
       "        text-align: right;\n",
       "    }\n",
       "</style>\n",
       "<table border=\"1\" class=\"dataframe\">\n",
       "  <thead>\n",
       "    <tr style=\"text-align: right;\">\n",
       "      <th></th>\n",
       "      <th>year</th>\n",
       "      <th>yearcode</th>\n",
       "      <th>countryname</th>\n",
       "      <th>countrycode</th>\n",
       "      <th>prop_urbanpopulation</th>\n",
       "    </tr>\n",
       "  </thead>\n",
       "  <tbody>\n",
       "    <tr>\n",
       "      <th>212</th>\n",
       "      <td>2020</td>\n",
       "      <td>YR2020</td>\n",
       "      <td>Singapore</td>\n",
       "      <td>SGP</td>\n",
       "      <td>100.0</td>\n",
       "    </tr>\n",
       "    <tr>\n",
       "      <th>147</th>\n",
       "      <td>2020</td>\n",
       "      <td>YR2020</td>\n",
       "      <td>Macao SAR, China</td>\n",
       "      <td>MAC</td>\n",
       "      <td>100.0</td>\n",
       "    </tr>\n",
       "    <tr>\n",
       "      <th>40</th>\n",
       "      <td>2020</td>\n",
       "      <td>YR2020</td>\n",
       "      <td>Cayman Islands</td>\n",
       "      <td>CYM</td>\n",
       "      <td>100.0</td>\n",
       "    </tr>\n",
       "    <tr>\n",
       "      <th>90</th>\n",
       "      <td>2020</td>\n",
       "      <td>YR2020</td>\n",
       "      <td>Gibraltar</td>\n",
       "      <td>GIB</td>\n",
       "      <td>100.0</td>\n",
       "    </tr>\n",
       "    <tr>\n",
       "      <th>103</th>\n",
       "      <td>2020</td>\n",
       "      <td>YR2020</td>\n",
       "      <td>Hong Kong SAR, China</td>\n",
       "      <td>HKG</td>\n",
       "      <td>100.0</td>\n",
       "    </tr>\n",
       "  </tbody>\n",
       "</table>\n",
       "</div>"
      ],
      "text/plain": [
       "     year yearcode           countryname countrycode  prop_urbanpopulation\n",
       "212  2020   YR2020             Singapore         SGP                 100.0\n",
       "147  2020   YR2020      Macao SAR, China         MAC                 100.0\n",
       "40   2020   YR2020        Cayman Islands         CYM                 100.0\n",
       "90   2020   YR2020             Gibraltar         GIB                 100.0\n",
       "103  2020   YR2020  Hong Kong SAR, China         HKG                 100.0"
      ]
     },
     "metadata": {},
     "output_type": "display_data"
    }
   ],
   "source": [
    "# Write your code here\n",
    "wdi=pd.read_csv(\"data/wdi_2020.csv\")\n",
    "wdi_descending_prop_urbanpopulation = wdi.sort_values(by = \"prop_urbanpopulation\",ascending = False)\n",
    "display(wdi_descending_prop_urbanpopulation.iloc[0:5,:])\n"
   ]
  },
  {
   "attachments": {},
   "cell_type": "markdown",
   "metadata": {},
   "source": [
    "<font size = \"5\">\n",
    "\n",
    "(d) Subset elements with query\n",
    "\n",
    "<font size = \"3\">\n",
    "\n",
    "- Compute the median of \"prop_urbanpopulation\"\n",
    "- Use \".query()\" to subset countries with <br>\n",
    " \"prop_urbanpopulation\" above the median"
   ]
  },
  {
   "cell_type": "code",
   "execution_count": 80,
   "metadata": {},
   "outputs": [
    {
     "name": "stdout",
     "output_type": "stream",
     "text": [
      "60.69872843\n",
      "     year yearcode                                        countryname  \\\n",
      "212  2020   YR2020                                          Singapore   \n",
      "147  2020   YR2020                                   Macao SAR, China   \n",
      "40   2020   YR2020                                     Cayman Islands   \n",
      "90   2020   YR2020                                          Gibraltar   \n",
      "103  2020   YR2020                               Hong Kong SAR, China   \n",
      "..    ...      ...                                                ...   \n",
      "84   2020   YR2020                                   French Polynesia   \n",
      "160  2020   YR2020  Middle East & North Africa (excluding high inc...   \n",
      "161  2020   YR2020  Middle East & North Africa (IDA & IBRD countries)   \n",
      "46   2020   YR2020                                              China   \n",
      "63   2020   YR2020                                East Asia & Pacific   \n",
      "\n",
      "    countrycode  prop_urbanpopulation  \n",
      "212         SGP            100.000000  \n",
      "147         MAC            100.000000  \n",
      "40          CYM            100.000000  \n",
      "90          GIB            100.000000  \n",
      "103         HKG            100.000000  \n",
      "..          ...                   ...  \n",
      "84          PYF             61.975000  \n",
      "160         MNA             61.892321  \n",
      "161         TMN             61.717344  \n",
      "46          CHN             61.428000  \n",
      "63          EAS             60.698728  \n",
      "\n",
      "[132 rows x 5 columns]\n"
     ]
    }
   ],
   "source": [
    "# Write your own code here\n",
    "prop_median = wdi_descending_prop_urbanpopulation[\"prop_urbanpopulation\"].median()\n",
    "print(prop_median)\n",
    "\n",
    "prop_uarbanpopulation_above_median = wdi_descending_prop_urbanpopulation.query(\"prop_urbanpopulation >= @prop_median\")\n",
    "print(prop_uarbanpopulation_above_median)\n"
   ]
  },
  {
   "attachments": {},
   "cell_type": "markdown",
   "metadata": {},
   "source": [
    "<font size = \"5\">\n",
    "\n",
    "(e) Plot by category\n",
    "\n",
    "<font size = \"3\">\n",
    "\n",
    "- Read \"data/wdi_urban.csv\"<br>\n",
    "This contains data from 1980 and 2020\n",
    "\n",
    "- Create a list with the unique values of \"year\"\n",
    "- Create a plot with a ...\n",
    "    - Histogram of \"prop_urbanpopulation\" <br>\n",
    "    for each year\n",
    "    - Set the histogram option ``` alpha = 0.5 ``` for transparency\n",
    "    - All the histograms should be overlapping\n",
    "    - Create a legend with the list of years\n",
    "    - Label the axes and the title\n",
    "\n",
    "What do we learn from the graph?\n",
    "\n",
    "HINT: See the example at the end of Lecture 10\n"
   ]
  },
  {
   "cell_type": "code",
   "execution_count": 71,
   "metadata": {},
   "outputs": [
    {
     "data": {
      "image/png": "[encoded data removed]",
      "text/plain": [
       "<Figure size 640x480 with 1 Axes>"
      ]
     },
     "metadata": {},
     "output_type": "display_data"
    }
   ],
   "source": [
    "# Write your own code here\n",
    "wdi_1980_2020 = pd.read_csv(\"data/wdi_urban.csv\")\n",
    "wid_1980_2020_year = [1980, 2020]\n",
    "\n",
    "\n",
    "for year in wid_1980_2020_year:\n",
    "    temporarydataframe = wdi_1980_2020.query(\"year == @year\")\n",
    "    plt.hist(x=temporarydataframe[\"prop_urbanpopulation\"],alpha = 0.5)\n",
    "    \n",
    "\n",
    "plt.legend(labels = wid_1980_2020_year)\n",
    "plt.title(\"prop_urban_population each year\")\n",
    "plt.xlabel(\"prop_urban_population\")\n",
    "plt.ylabel(\"frequency\")\n",
    "\n",
    "plt.show()\n",
    "\n",
    "# From the histogram above, \n",
    "# there is a rightward shift of proportion of urban population from 1980 to 2020 which means \n",
    "# that the proportion of urban population among different countries genrally increase.\n"
   ]
  }
 ],
 "metadata": {
  "kernelspec": {
   "display_name": "base",
   "language": "python",
   "name": "python3"
  },
  "language_info": {
   "codemirror_mode": {
    "name": "ipython",
    "version": 3
   },
   "file_extension": ".py",
   "mimetype": "text/x-python",
   "name": "python",
   "nbconvert_exporter": "python",
   "pygments_lexer": "ipython3",
   "version": "3.9.13"
  },
  "orig_nbformat": 4,
  "vscode": {
   "interpreter": {
    "hash": "45fc1f684f6f416f40889115beff3ddf69879b64cf4bfee48cb72a61e9d15d1a"
   }
  }
 },
 "nbformat": 4,
 "nbformat_minor": 2
}
